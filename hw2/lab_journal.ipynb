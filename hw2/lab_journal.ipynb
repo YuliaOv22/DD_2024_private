{
 "cells": [
  {
   "cell_type": "markdown",
   "id": "fc2c695a-6679-4f52-ae8e-a3f30c762a73",
   "metadata": {},
   "source": [
    "## Шаг 1: Контроль качества ридов"
   ]
  },
  {
   "cell_type": "markdown",
   "id": "a5fba108-0651-4ed5-8792-9d3af6da4c2b",
   "metadata": {},
   "source": [
    "### Установка библиотеки fastqc\n",
    "FastQC aims to provide a simple way to do some quality control checks on raw sequence data coming from high throughput sequencing pipelines.\n",
    "https://www.bioinformatics.babraham.ac.uk/projects/fastqc/\n",
    "\n",
    "For assembly we will be using a de Bruijn graph strategy, which breaks the reads up into\n",
    "k-mers to facilitate assembly of correctly connected contigs. The size and type of these\n",
    "k-mers are important parameters in de novo assembly, so it may be useful to spend some\n",
    "time looking at how k-mers are distributed in our data."
   ]
  },
  {
   "cell_type": "code",
   "execution_count": 1,
   "id": "e1839e02-3cb7-4a6b-a7c8-5b8d38b303f8",
   "metadata": {},
   "outputs": [],
   "source": [
    "# Команда создания окружения и установки ПО\n",
    "# mamba create -n fastqc -c bioconda -c conda-forge -c defaults fastqc\n",
    "\n",
    "# Версия ПО\n",
    "# fastqc --> Version: 0.12.1"
   ]
  },
  {
   "cell_type": "markdown",
   "id": "a5e2bc42-ac65-4495-96ab-34fc34fa4f20",
   "metadata": {},
   "source": [
    "### Скачивание данных"
   ]
  },
  {
   "cell_type": "code",
   "execution_count": null,
   "id": "5bcab63d-3613-4f47-851a-a072e61b351b",
   "metadata": {},
   "outputs": [],
   "source": [
    "# SRR292678 - paired end, insert size 470 bp\n",
    "# wget https://d28rh4a8wq0iu5.cloudfront.net/bioinfo/SRR292678sub_S1_L001_R1_001.fastq.gz\n",
    "# wget https://d28rh4a8wq0iu5.cloudfront.net/bioinfo/SRR292678sub_S1_L001_R2_001.fastq.gz\n",
    "\n",
    "# SRR292862 – mate pair, insert size 2 kb\n",
    "# wget https://d28rh4a8wq0iu5.cloudfront.net/bioinfo/SRR292862_S2_L001_R1_001.fastq.gz\n",
    "# wget https://d28rh4a8wq0iu5.cloudfront.net/bioinfo/SRR292862_S2_L001_R2_001.fastq.gz\n",
    "\n",
    "# SRR292770 – mate pair, insert size 6 kb\n",
    "# wget https://d28rh4a8wq0iu5.cloudfront.net/bioinfo/SRR292770_S1_L001_R1_001.fastq.gz\n",
    "# wget https://d28rh4a8wq0iu5.cloudfront.net/bioinfo/SRR292770_S1_L001_R2_001.fastq.gz"
   ]
  },
  {
   "cell_type": "markdown",
   "id": "25106b16-67c7-4164-8d7d-f724c6b45786",
   "metadata": {},
   "source": [
    "### Разархивирование данных"
   ]
  },
  {
   "cell_type": "code",
   "execution_count": null,
   "id": "fdb83587-c326-47f2-a32d-410c21169408",
   "metadata": {},
   "outputs": [],
   "source": [
    "# gzip -d SRR292678sub_S1_L001_R1_001.fastq.gz\n",
    "# gzip -d SRR292678sub_S1_L001_R2_001.fastq.gz\n",
    "# gzip -d SRR292770_S1_L001_R1_001.fastq.gz\n",
    "# gzip -d SRR292770_S1_L001_R2_001.fastq.gz\n",
    "# gzip -d SRR292862_S2_L001_R1_001.fastq.gz\n",
    "# gzip -d SRR292862_S2_L001_R2_001.fastq.gz"
   ]
  },
  {
   "cell_type": "markdown",
   "id": "9ebd5e94-1619-4bd9-aa48-cb4c3395e1dc",
   "metadata": {},
   "source": [
    "### Получение отчетов"
   ]
  },
  {
   "cell_type": "code",
   "execution_count": null,
   "id": "0a226be2-4ef8-4aa4-a6ba-9cc9de0b2f29",
   "metadata": {},
   "outputs": [],
   "source": [
    "# fastqc SRR292678sub_S1_L001_R1_001.fastq\n",
    "# fastqc SRR292678sub_S1_L001_R2_001.fastq\n",
    "# fastqc SRR292770_S1_L001_R1_001.fastq\n",
    "# fastqc SRR292770_S1_L001_R2_001.fastq\n",
    "# fastqc SRR292862_S2_L001_R1_001.fastq\n",
    "# fastqc SRR292862_S2_L001_R2_001.fastq"
   ]
  },
  {
   "cell_type": "markdown",
   "id": "3acf3c1b-0d2a-4b80-93fa-b09510993cad",
   "metadata": {},
   "source": [
    "### Просмотр html-файла"
   ]
  },
  {
   "cell_type": "code",
   "execution_count": null,
   "id": "58a0fcd8-8cff-4fb7-acc2-f1a43a651305",
   "metadata": {},
   "outputs": [],
   "source": [
    "# wslview SRR292678sub_S1_L001_R1_001_fastqc.html"
   ]
  },
  {
   "cell_type": "markdown",
   "id": "bb360dfa-af40-48a1-9b89-9efbd4e11a68",
   "metadata": {},
   "source": [
    "### Краткое описание результатов"
   ]
  },
  {
   "cell_type": "markdown",
   "id": "3cfa9594-bce1-4885-a979-769b708bd00f",
   "metadata": {},
   "source": [
    "**SRR292678sub_S1_L001_R1_001_fastqc.html**<br>\n",
    "**SRR292678sub_S1_L001_R2_001_fastqc.html**\n",
    "\n",
    " - Total Sequences: 5499346\n",
    " - Sequence length: 90\n",
    " - %GC: 49\n",
    "\n",
    "**Per Base Sequence Quality:**  Распределение качества относительно равномерно, значения находятся практически полностью в зеленой зоне\n",
    "\n",
    "**Per Sequence Quality:** Average quality per read: 37 <br>(*Среднее качество должно быть не ниже 20-25 (Phred-шкала)*)\n",
    "\n",
    "**Per Sequence GC Content:** GC count per read: ~52% <br>(*Среднее GC-содержание должно быть в пределах от 40% до 60%*)\n",
    "\n",
    "**Overrepresented sequences:** Повторяющиеся последовательности в данных отстуствуют <br>(*Количество повторяющихся последовательностей: должно быть минимальным*)\n",
    "\n",
    "**Качество данных: хорошее.**"
   ]
  },
  {
   "cell_type": "markdown",
   "id": "2b6fed56-799a-4854-9c0a-bfb591d07a20",
   "metadata": {},
   "source": [
    "**SRR292770_S1_L001_R1_001_fastqc.html**<br>\n",
    "**SRR292770_S1_L001_R2_001_fastqc.html**<br>\n",
    "**SRR292862_S2_L001_R1_001_fastqc.html**<br>\n",
    "**SRR292770_S1_L001_R2_001_fastqc.html**\n",
    " - Total Sequences: 5102041\n",
    " - Sequence length: 49\n",
    " - %GC: 50 / 49 / 50 / 49\n",
    "\n",
    "**Per Base Sequence Quality:**  Распределение качества относительно равномерно, значения находятся в зеленой зоне\n",
    "\n",
    "**Per Sequence Quality:** Average quality per read: 38 <br>(*Среднее качество должно быть не ниже 20-25 (Phred-шкала)*)\n",
    "\n",
    "**Per Sequence GC Content:** GC count per read: ~52% <br>(*Среднее GC-содержание должно быть в пределах от 40% до 60%*)\n",
    "\n",
    "**Overrepresented sequences:** Повторяющиеся последовательности в данных отстуствуют <br>(*Количество повторяющихся последовательностей: должно быть минимальным*)\n",
    "\n",
    "**Качество данных: хорошее.**"
   ]
  },
  {
   "cell_type": "markdown",
   "id": "989a625f-58e2-4016-a6db-575f1f303fcb",
   "metadata": {},
   "source": [
    "## Шаг 2: Сборка генома"
   ]
  },
  {
   "cell_type": "markdown",
   "id": "bfb7b5b1-39df-48df-9704-8df7fe679176",
   "metadata": {},
   "source": [
    "### Установка библиотеки spades\n",
    "SPAdes - St. Petersburg genome assembler - a versatile toolkit designed for assembling and analyzing sequencing data from Illumina and IonTorrent technologies.\n",
    "https://ablab.github.io/spades/index.html"
   ]
  },
  {
   "cell_type": "code",
   "execution_count": null,
   "id": "60319bd9-9f4e-4ba9-b573-581ba982b5d2",
   "metadata": {},
   "outputs": [],
   "source": [
    "# Команда создания окружения и установки ПО\n",
    "# mamba create -n spades -c bioconda -c conda-forge -c defaults spades\n",
    "\n",
    "# Версия ПО\n",
    "# spades.py -v --> SPAdes genome assembler v4.0.0\n",
    "\n",
    "# Сборка генома только для SRR292678 - paired end\n",
    "# spades.py -1 SRR292678sub_S1_L001_R1_001.fastq -2 SRR292678sub_S1_L001_R2_001.fastq -o ~/DD_2024_private/hw2/spades/"
   ]
  },
  {
   "cell_type": "markdown",
   "id": "408f3e51-61b0-4e42-93d0-bfcad5e385ab",
   "metadata": {},
   "source": [
    "### Краткое описание результатов"
   ]
  },
  {
   "cell_type": "markdown",
   "id": "9c5fd99b-21f4-4c6d-b3b6-883c00510eee",
   "metadata": {},
   "source": [
    "Получили файлы contigs.fasta и scaffolds.fasta, далее оценим качество сборки генома."
   ]
  },
  {
   "cell_type": "markdown",
   "id": "6511c4ae-7ba2-4359-aeb6-f42f278b5a61",
   "metadata": {},
   "source": [
    "## Шаг 3: Оценка качества сборки"
   ]
  },
  {
   "cell_type": "markdown",
   "id": "cd58ce3f-9d39-4941-8036-e5921ed6dc30",
   "metadata": {},
   "source": [
    "### Установка библиотеки quast\n",
    "Quality Assessment Tool for Genome Assemblies - the project aim is to create easy-to-use tools for genome assemblies evaluation and comparison.\n",
    "https://quast.sourceforge.net/"
   ]
  },
  {
   "cell_type": "code",
   "execution_count": null,
   "id": "dfb04f1a-adf3-457a-90e2-77759021169c",
   "metadata": {},
   "outputs": [],
   "source": [
    "# Команда создания окружения и установки ПО\n",
    "# mamba create -n quast -c bioconda -c conda-forge -c defaults quast\n",
    "\n",
    "# Версия ПО\n",
    "# quast.py -v --> QUAST v5.2.0\n",
    "\n",
    "# Создание отчета о качестве сборки\n",
    "# quast.py contigs.fasta scaffolds.fasta -o ../quast/"
   ]
  },
  {
   "cell_type": "markdown",
   "id": "f3b57c5f-ddf7-4785-9b80-2a97924c9ef3",
   "metadata": {},
   "source": [
    "### Краткое описание результатов"
   ]
  },
  {
   "cell_type": "code",
   "execution_count": 16,
   "id": "acad94d7-600a-4533-b2d8-4ccf972f3c29",
   "metadata": {},
   "outputs": [
    {
     "name": "stdout",
     "output_type": "stream",
     "text": [
      "All statistics are based on contigs of size >= 500 bp, unless otherwise noted (e.g., \"# contigs (>= 0 bp)\" and \"Total length (>= 0 bp)\" include all contigs).\n",
      "\n",
      "Assembly                    contigs   scaffolds\n",
      "# contigs (>= 0 bp)         517       499      \n",
      "# contigs (>= 1000 bp)      151       147      \n",
      "# contigs (>= 5000 bp)      83        82       \n",
      "# contigs (>= 10000 bp)     68        66       \n",
      "# contigs (>= 25000 bp)     50        50       \n",
      "# contigs (>= 50000 bp)     32        33       \n",
      "Total length (>= 0 bp)      5315160   5316783  \n",
      "Total length (>= 1000 bp)   5204929   5205502  \n",
      "Total length (>= 5000 bp)   5038908   5045822  \n",
      "Total length (>= 10000 bp)  4935231   4935654  \n",
      "Total length (>= 25000 bp)  4639340   4685368  \n",
      "Total length (>= 50000 bp)  3960781   4051686  \n",
      "# contigs                   206       214      \n",
      "Largest contig              300784    300784   \n",
      "Total length                5244705   5253645  \n",
      "GC (%)                      50.54     50.51    \n",
      "N50                         105346    105346   \n",
      "N90                         21026     21421    \n",
      "auN                         128088.5  128949.0 \n",
      "L50                         15        15       \n",
      "L90                         54        52       \n",
      "# N's per 100 kbp           0.00      32.23    \n",
      "\n"
     ]
    }
   ],
   "source": [
    "with open('./quast/report.txt') as f:\n",
    "    lines = f.read()\n",
    "    print(lines)"
   ]
  },
  {
   "cell_type": "code",
   "execution_count": null,
   "id": "b487a261-2766-4bbc-baf8-b270173c6d29",
   "metadata": {},
   "outputs": [],
   "source": []
  },
  {
   "cell_type": "code",
   "execution_count": null,
   "id": "99a9ed0c-b183-4972-8667-c6e20dbc2f35",
   "metadata": {},
   "outputs": [],
   "source": []
  }
 ],
 "metadata": {
  "kernelspec": {
   "display_name": "Python 3 (ipykernel)",
   "language": "python",
   "name": "python3"
  },
  "language_info": {
   "codemirror_mode": {
    "name": "ipython",
    "version": 3
   },
   "file_extension": ".py",
   "mimetype": "text/x-python",
   "name": "python",
   "nbconvert_exporter": "python",
   "pygments_lexer": "ipython3",
   "version": "3.13.0"
  }
 },
 "nbformat": 4,
 "nbformat_minor": 5
}
